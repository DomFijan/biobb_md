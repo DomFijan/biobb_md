{
 "cells": [
  {
   "cell_type": "code",
   "execution_count": 1,
   "metadata": {},
   "outputs": [],
   "source": [
    "# Import module to test\n",
    "from gromacs.pdb2gmx import Pdb2gmx"
   ]
  },
  {
   "cell_type": "code",
   "execution_count": 2,
   "metadata": {},
   "outputs": [],
   "source": [
    "# Create prop dict and inputs/outputs\n",
    "prop = {}\n",
    "input_pdb_path = '../../test/data/gromacs/pyruvate_kinase.pdb'\n",
    "output_gro_path = 'output_gro_path.gro'\n",
    "output_top_zip_path = 'output_top_zip_path.zip'"
   ]
  },
  {
   "cell_type": "code",
   "execution_count": 3,
   "metadata": {},
   "outputs": [
    {
     "data": {
      "text/plain": [
       "0"
      ]
     },
     "execution_count": 3,
     "metadata": {},
     "output_type": "execute_result"
    }
   ],
   "source": [
    "#Create and launch bb\n",
    "Pdb2gmx(input_pdb_path=input_pdb_path, output_gro_path=output_gro_path, output_top_zip_path=output_top_zip_path,  properties=prop).launch()"
   ]
  },
  {
   "cell_type": "code",
   "execution_count": 4,
   "metadata": {},
   "outputs": [
    {
     "name": "stdout",
     "output_type": "stream",
     "text": [
      "2018-05-28 23:39:49,770 [MainThread  ] [INFO ]  gmx pdb2gmx -f ../../test/data/gromacs/pyruvate_kinase.pdb -o output_gro_path.gro -p p2g.top -water spce -ff amber99sb-ildn -i p2g.itp\r\n",
      "\r\n",
      "2018-05-28 23:39:49,771 [MainThread  ] [INFO ]  Exit code 0\r\n",
      "\r\n",
      "2018-05-28 23:39:49,771 [MainThread  ] [INFO ]  \r\n",
      "Using the Amber99sb-ildn force field in directory amber99sb-ildn.ff\r\n",
      "\r\n",
      "Reading ../../test/data/gromacs/pyruvate_kinase.pdb...\r\n",
      "Read 'Pyruvate Kinase WT with Gromacs and propKa Setup', 31628 atoms\r\n",
      "Analyzing pdb file\r\n",
      "Splitting chemical chains based on TER records or chain id changing.\r\n",
      "There are 4 chains and 0 blocks of water and 2068 residues with 31628 atoms\r\n",
      "\r\n",
      "  chain  #res #atoms\r\n",
      "  1 'A'   517   7907  \r\n",
      "  2 'B'   517   7907  \r\n",
      "  3 'C'   517   7907  \r\n",
      "  4 'D'   517   7907  \r\n",
      "\r\n",
      "Reading residue database... (amber99sb-ildn)\r\n",
      "Processing chain 1 'A' (7907 atoms, 517 residues)\r\n",
      "Identified residue GLN57 as a starting terminus.\r\n",
      "Identified residue ILE573 as a ending terminus.\r\n",
      "Checking for duplicate atoms....\r\n",
      "Generating any missing hydrogen atoms and/or adding termini.\r\n",
      "Now there are 517 residues with 7908 atoms\r\n",
      "Chain time...\r\n",
      "Processing chain 2 'B' (7907 atoms, 517 residues)\r\n",
      "Identified residue GLN57 as a starting terminus.\r\n",
      "Identified residue ILE573 as a ending terminus.\r\n",
      "Checking for duplicate atoms....\r\n",
      "Generating any missing hydrogen atoms and/or adding termini.\r\n",
      "Now there are 517 residues with 7908 atoms\r\n",
      "Chain time...\r\n",
      "Processing chain 3 'C' (7907 atoms, 517 residues)\r\n",
      "Identified residue GLN57 as a starting terminus.\r\n",
      "Identified residue ILE573 as a ending terminus.\r\n",
      "Checking for duplicate atoms....\r\n",
      "Generating any missing hydrogen atoms and/or adding termini.\r\n",
      "Now there are 517 residues with 7908 atoms\r\n",
      "Chain time...\r\n",
      "Processing chain 4 'D' (7907 atoms, 517 residues)\r\n",
      "Identified residue GLN57 as a starting terminus.\r\n",
      "Identified residue ILE573 as a ending terminus.\r\n",
      "Checking for duplicate atoms....\r\n",
      "Generating any missing hydrogen atoms and/or adding termini.\r\n",
      "Now there are 517 residues with 7908 atoms\r\n",
      "Chain time...\r\n",
      "Including chain 1 in system: 7908 atoms 517 residues\r\n",
      "Including chain 2 in system: 7908 atoms 517 residues\r\n",
      "Including chain 3 in system: 7908 atoms 517 residues\r\n",
      "Including chain 4 in system: 7908 atoms 517 residues\r\n",
      "\t\t--------- PLEASE NOTE ------------\r\n",
      "You have successfully generated a topology from: ../../test/data/gromacs/pyruvate_kinase.pdb.\r\n",
      "The Amber99sb-ildn force field and the spce water model are used.\r\n",
      "\t\t--------- ETON ESAELP ------------\r\n",
      "\r\n",
      "2018-05-28 23:39:49,771 [MainThread  ] [INFO ]  Compressing topology to: output_top_zip_path.zip\r\n"
     ]
    }
   ],
   "source": [
    "#Show log\n",
    "!cat log.out"
   ]
  },
  {
   "cell_type": "code",
   "execution_count": 5,
   "metadata": {},
   "outputs": [],
   "source": [
    "#Unzip list\n",
    "from biobb_common.tools.file_utils import unzip_list\n",
    "file_list = unzip_list(output_top_zip_path)"
   ]
  },
  {
   "cell_type": "code",
   "execution_count": 6,
   "metadata": {},
   "outputs": [
    {
     "name": "stdout",
     "output_type": "stream",
     "text": [
      "/Users/pau/projects/biobb_md/notebooks/gromacs/p2g_Protein_chain_C_pr.itp:\n",
      "; In this topology include file, you will find position restraint\n",
      "; entries for all the heavy atoms in your original pdb file.\n",
      "; This means that all the protons which were added by pdb2gmx are\n",
      "\n",
      "/Users/pau/projects/biobb_md/notebooks/gromacs/p2g_Protein_chain_A_pr.itp:\n",
      "; In this topology include file, you will find position restraint\n",
      "; entries for all the heavy atoms in your original pdb file.\n",
      "; This means that all the protons which were added by pdb2gmx are\n",
      "\n",
      "/Users/pau/projects/biobb_md/notebooks/gromacs/p2g_Protein_chain_C.itp:\n",
      ";\n",
      ";\tFile 'p2g_Protein_chain_C.itp' was generated\n",
      ";\tBy user: pau (501)\n",
      "\n",
      "/Users/pau/projects/biobb_md/notebooks/gromacs/p2g_Protein_chain_B.itp:\n",
      ";\n",
      ";\tFile 'p2g_Protein_chain_B.itp' was generated\n",
      ";\tBy user: pau (501)\n",
      "\n",
      "/Users/pau/projects/biobb_md/notebooks/gromacs/p2g_Protein_chain_A.itp:\n",
      ";\n",
      ";\tFile 'p2g_Protein_chain_A.itp' was generated\n",
      ";\tBy user: pau (501)\n",
      "\n",
      "/Users/pau/projects/biobb_md/notebooks/gromacs/p2g_Protein_chain_D.itp:\n",
      ";\n",
      ";\tFile 'p2g_Protein_chain_D.itp' was generated\n",
      ";\tBy user: pau (501)\n",
      "\n",
      "/Users/pau/projects/biobb_md/notebooks/gromacs/p2g.top:\n",
      ";\n",
      ";\tFile 'p2g.top' was generated\n",
      ";\tBy user: pau (501)\n",
      "\n",
      "/Users/pau/projects/biobb_md/notebooks/gromacs/p2g_Protein_chain_B_pr.itp:\n",
      "; In this topology include file, you will find position restraint\n",
      "; entries for all the heavy atoms in your original pdb file.\n",
      "; This means that all the protons which were added by pdb2gmx are\n",
      "\n",
      "/Users/pau/projects/biobb_md/notebooks/gromacs/p2g_Protein_chain_D_pr.itp:\n",
      "; In this topology include file, you will find position restraint\n",
      "; entries for all the heavy atoms in your original pdb file.\n",
      "; This means that all the protons which were added by pdb2gmx are\n",
      "\n"
     ]
    }
   ],
   "source": [
    "#Show result\n",
    "for file_path in file_list:\n",
    "    print file_path+':'\n",
    "    max_lines = 3\n",
    "    with open(file_path) as f:\n",
    "        print \"\".join([next(f) for x in xrange(max_lines)])"
   ]
  },
  {
   "cell_type": "code",
   "execution_count": 7,
   "metadata": {},
   "outputs": [
    {
     "data": {
      "application/vnd.jupyter.widget-view+json": {
       "model_id": "4bf0b0c6fefc4cdcbdaf9c6c85b3419c",
       "version_major": 2,
       "version_minor": 0
      },
      "text/plain": [
       "NGLWidget()"
      ]
     },
     "metadata": {},
     "output_type": "display_data"
    }
   ],
   "source": [
    "#Always run nglview with Mozilla Firefox\n",
    "#Might need to run: jupyter-nbextension enable nglview --py --sys-prefix\n",
    "#before launch jupyter-notebook in order to enable nglview command  \n",
    "#Visualize resul with nglview\n",
    "import nglview\n",
    "view = nglview.show_file(output_gro_path)\n",
    "view"
   ]
  },
  {
   "cell_type": "code",
   "execution_count": 9,
   "metadata": {},
   "outputs": [
    {
     "name": "stdout",
     "output_type": "stream",
     "text": [
      "./p2g_Protein_chain_C_pr.itp\n",
      "./p2g_Protein_chain_A_pr.itp\n",
      "./p2g_Protein_chain_C.itp\n",
      "./output_top_zip_path.zip\n",
      "./p2g_Protein_chain_B.itp\n",
      "./p2g_Protein_chain_A.itp\n",
      "./p2g_Protein_chain_D.itp\n",
      "./log.out\n",
      "./p2g.top\n",
      "./p2g_Protein_chain_B_pr.itp\n",
      "./output_gro_path.gro\n",
      "./.ipynb_checkpoints\n",
      "./p2g_Protein_chain_D_pr.itp\n",
      "./log.err\n"
     ]
    }
   ],
   "source": [
    "#Clean the directory\n",
    "!find . ! -iname \"*.ipynb\" -exec rm -rf {} 2>/dev/null \\; -print"
   ]
  }
 ],
 "metadata": {
  "kernelspec": {
   "display_name": "Python 2",
   "language": "python",
   "name": "python2"
  },
  "language_info": {
   "codemirror_mode": {
    "name": "ipython",
    "version": 2
   },
   "file_extension": ".py",
   "mimetype": "text/x-python",
   "name": "python",
   "nbconvert_exporter": "python",
   "pygments_lexer": "ipython2",
   "version": "2.7.15"
  }
 },
 "nbformat": 4,
 "nbformat_minor": 2
}
